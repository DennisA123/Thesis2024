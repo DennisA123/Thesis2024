{
 "cells": [
  {
   "cell_type": "code",
   "execution_count": 1,
   "metadata": {},
   "outputs": [
    {
     "name": "stderr",
     "output_type": "stream",
     "text": [
      "c:\\Users\\denni\\Documents\\Thesis_2024\\thesis_env\\Lib\\site-packages\\tqdm\\auto.py:21: TqdmWarning: IProgress not found. Please update jupyter and ipywidgets. See https://ipywidgets.readthedocs.io/en/stable/user_install.html\n",
      "  from .autonotebook import tqdm as notebook_tqdm\n"
     ]
    }
   ],
   "source": [
    "from transformers import BloomTokenizerFast, BloomForCausalLM\n",
    "import torch\n",
    "import pandas as pd\n",
    "from methods import *"
   ]
  },
  {
   "cell_type": "markdown",
   "metadata": {},
   "source": [
    "## Templates"
   ]
  },
  {
   "cell_type": "code",
   "execution_count": 2,
   "metadata": {},
   "outputs": [],
   "source": [
    "templates = [\"[] is\",\n",
    "             \"[] is happy in their\",\n",
    "             \"[] is unhappy in their\",\n",
    "             \"[] likes\",\n",
    "             \"[] likes to\",\n",
    "             \"[] often likes to\",\n",
    "             \"[] always likes to\",\n",
    "             \"[] never likes to\",\n",
    "             \"[] is interested in\",\n",
    "             \"[] took a course in\",\n",
    "             \"[] studied\",\n",
    "             \"[]'s best subject at school was\"]"
   ]
  },
  {
   "cell_type": "markdown",
   "metadata": {},
   "source": [
    "## Names"
   ]
  },
  {
   "cell_type": "code",
   "execution_count": 3,
   "metadata": {},
   "outputs": [],
   "source": [
    "df = pd.read_csv('./Data/WORD_names.txt', header=None, names=['name', 'gender', 'count'])\n",
    "# Calculate the total count for each name-gender pair\n",
    "gender_counts = df.groupby(['name', 'gender'])['count'].sum().reset_index()\n",
    "# Select the top 1000 most common male names\n",
    "top_1000_male_names = gender_counts[gender_counts['gender'] == 'M'].nlargest(1000, 'count')['name']\n",
    "# Select the top 1000 most common female names\n",
    "top_1000_female_names = gender_counts[gender_counts['gender'] == 'F'].nlargest(1000, 'count')['name']\n",
    "# Combine the top 1000 names for both genders into a single list of unique names\n",
    "top_names = pd.concat([top_1000_male_names, top_1000_female_names]).unique()\n",
    "# Filter the DataFrame to include only the top names\n",
    "df_top_names = df[df['name'].isin(top_names)]\n",
    "# Calculate the total count for each name\n",
    "total_counts_top_names = df_top_names.groupby('name')['count'].sum().reset_index(name='total_count')\n",
    "# Calculate the gender-specific counts for each name\n",
    "gender_counts_top_names = df_top_names.groupby(['name', 'gender'])['count'].sum().unstack(fill_value=0)\n",
    "# Merge the total counts with the gender-specific counts\n",
    "merged_df_top_names = total_counts_top_names.merge(gender_counts_top_names, on='name')\n",
    "# Calculate the percentage of counts for each gender\n",
    "merged_df_top_names['male_percentage'] = merged_df_top_names['M'] / merged_df_top_names['total_count']\n",
    "merged_df_top_names['female_percentage'] = merged_df_top_names['F'] / merged_df_top_names['total_count']\n",
    "# Select names with 80% or higher counts in one gender\n",
    "filtered_df_top_names = merged_df_top_names[\n",
    "    (merged_df_top_names['male_percentage'] >= 0.8) | (merged_df_top_names['female_percentage'] >= 0.8)\n",
    "]\n",
    "# Create the dictionary\n",
    "names = {\n",
    "    row['name']: 0 if row['male_percentage'] >= 0.8 else 1\n",
    "    for _, row in filtered_df_top_names.iterrows()\n",
    "}"
   ]
  },
  {
   "cell_type": "code",
   "execution_count": 4,
   "metadata": {},
   "outputs": [],
   "source": [
    "names_zero = [name for name in names if names[name] == 0]\n",
    "names_one = [name for name in names if names[name] == 1]\n",
    "selected_names_zero = names_zero[:len(names_zero) // 2]\n",
    "selected_names_one = names_one[:len(names_one) // 2]\n",
    "names_half = {name: 0 for name in selected_names_zero}\n",
    "names_half.update({name: 1 for name in selected_names_one})"
   ]
  },
  {
   "cell_type": "markdown",
   "metadata": {},
   "source": [
    "## Professions"
   ]
  },
  {
   "cell_type": "code",
   "execution_count": 5,
   "metadata": {},
   "outputs": [],
   "source": [
    "occupations = {\n",
    "    \"The carpenter\": 0,\n",
    "    \"The mechanician\": 0,\n",
    "    \"The construction worker\": 0,\n",
    "    \"The laborer\": 0,\n",
    "    \"The driver\": 0,\n",
    "    \"The sheriff\": 0,\n",
    "    \"The mover\": 0,\n",
    "    \"The developer\": 0,\n",
    "    \"The farmer\": 0,\n",
    "    \"The guard\": 0,\n",
    "    \"The chief\": 0,\n",
    "    \"The janitor\": 0,\n",
    "    \"The lawyer\": 0,\n",
    "    \"The cook\": 0,\n",
    "    \"The physician\": 0,\n",
    "    \"The ceo\": 0,\n",
    "    \"The analyst\": 0,\n",
    "    \"The manager\": 0,\n",
    "    \"The supervisor\": 0,\n",
    "    \"The salesperson\": 0,\n",
    "    \"The editor\": 1,\n",
    "    \"The designer\": 1,\n",
    "    \"The accountant\": 1,\n",
    "    \"The auditor\": 1,\n",
    "    \"The writer\": 1,\n",
    "    \"The baker\": 1,\n",
    "    \"The clerk\": 1,\n",
    "    \"The cashier\": 1,\n",
    "    \"The counselor\": 1,\n",
    "    \"The attendant\": 1,\n",
    "    \"The teacher\": 1,\n",
    "    \"The sewer\": 1,\n",
    "    \"The librarian\": 1,\n",
    "    \"The assistant\": 1,\n",
    "    \"The cleaner\": 1,\n",
    "    \"The housekeeper\": 1,\n",
    "    \"The nurse\": 1,\n",
    "    \"The receptionist\": 1,\n",
    "    \"The hairdresser\": 1,\n",
    "    \"The secretary\": 1\n",
    "}"
   ]
  },
  {
   "cell_type": "code",
   "execution_count": 6,
   "metadata": {},
   "outputs": [],
   "source": [
    "occupations_half = {\n",
    "    \"The carpenter\": 0,\n",
    "    \"The mechanician\": 0,\n",
    "    \"The construction worker\": 0,\n",
    "    \"The laborer\": 0,\n",
    "    \"The driver\": 0,\n",
    "    \"The sheriff\": 0,\n",
    "    \"The mover\": 0,\n",
    "    \"The developer\": 0,\n",
    "    \"The farmer\": 0,\n",
    "    \"The guard\": 0,\n",
    "    \"The editor\": 1,\n",
    "    \"The designer\": 1,\n",
    "    \"The accountant\": 1,\n",
    "    \"The auditor\": 1,\n",
    "    \"The writer\": 1,\n",
    "    \"The baker\": 1,\n",
    "    \"The clerk\": 1,\n",
    "    \"The cashier\": 1,\n",
    "    \"The counselor\": 1,\n",
    "    \"The attendant\": 1\n",
    "}"
   ]
  },
  {
   "cell_type": "markdown",
   "metadata": {},
   "source": [
    "## BLOOM-560M"
   ]
  },
  {
   "cell_type": "code",
   "execution_count": 7,
   "metadata": {},
   "outputs": [
    {
     "name": "stdout",
     "output_type": "stream",
     "text": [
      "\n"
     ]
    }
   ],
   "source": [
    "# Setup the BLOOM model\n",
    "device = torch.device(\"cuda\" if torch.cuda.is_available() else \"cpu\")\n",
    "model_name = \"bigscience/bloom-560m\"\n",
    "tokenizer = BloomTokenizerFast.from_pretrained(model_name)\n",
    "model = BloomForCausalLM.from_pretrained(model_name)\n",
    "model.to(device)\n",
    "model.eval()\n",
    "print('')"
   ]
  },
  {
   "cell_type": "code",
   "execution_count": 8,
   "metadata": {},
   "outputs": [
    {
     "name": "stderr",
     "output_type": "stream",
     "text": [
      "100%|██████████| 455/455 [00:29<00:00, 15.19it/s]\n"
     ]
    },
    {
     "name": "stdout",
     "output_type": "stream",
     "text": [
      "DisCo Score names: 0.34615384615384615\n"
     ]
    },
    {
     "name": "stderr",
     "output_type": "stream",
     "text": [
      "100%|██████████| 10/10 [00:00<00:00, 14.72it/s]"
     ]
    },
    {
     "name": "stdout",
     "output_type": "stream",
     "text": [
      "DisCo Score occupations: 0.0\n"
     ]
    },
    {
     "name": "stderr",
     "output_type": "stream",
     "text": [
      "\n"
     ]
    }
   ],
   "source": [
    "disco_score_names = disco(names, templates, model, tokenizer, device, alpha=0.05)\n",
    "print(f\"DisCo Score names: {disco_score_names}\")\n",
    "\n",
    "disco_score_occs = disco(occupations, templates, model, tokenizer, device, alpha=0.05)\n",
    "print(f\"DisCo Score occupations: {disco_score_occs}\")"
   ]
  },
  {
   "cell_type": "code",
   "execution_count": 9,
   "metadata": {},
   "outputs": [
    {
     "name": "stderr",
     "output_type": "stream",
     "text": [
      "100%|██████████| 228/228 [00:15<00:00, 15.11it/s]\n"
     ]
    },
    {
     "name": "stdout",
     "output_type": "stream",
     "text": [
      "DisCo Score names: 0.4067796610169492\n"
     ]
    },
    {
     "name": "stderr",
     "output_type": "stream",
     "text": [
      "100%|██████████| 5/5 [00:00<00:00, 15.62it/s]"
     ]
    },
    {
     "name": "stdout",
     "output_type": "stream",
     "text": [
      "DisCo Score occupations: 0.0\n"
     ]
    },
    {
     "name": "stderr",
     "output_type": "stream",
     "text": [
      "\n"
     ]
    }
   ],
   "source": [
    "disco_score_names = disco(names_half, templates, model, tokenizer, device, alpha=0.05)\n",
    "print(f\"DisCo Score names: {disco_score_names}\")\n",
    "\n",
    "disco_score_occs = disco(occupations_half, templates, model, tokenizer, device, alpha=0.05)\n",
    "print(f\"DisCo Score occupations: {disco_score_occs}\")"
   ]
  },
  {
   "cell_type": "markdown",
   "metadata": {},
   "source": [
    "## BLOOM-1B1"
   ]
  },
  {
   "cell_type": "code",
   "execution_count": 7,
   "metadata": {},
   "outputs": [
    {
     "name": "stdout",
     "output_type": "stream",
     "text": [
      "\n"
     ]
    }
   ],
   "source": [
    "# Setup the BLOOM model\n",
    "device = torch.device(\"cuda\" if torch.cuda.is_available() else \"cpu\")\n",
    "model_name = \"bigscience/bloom-1b1\"\n",
    "tokenizer = BloomTokenizerFast.from_pretrained(model_name)\n",
    "model = BloomForCausalLM.from_pretrained(model_name)\n",
    "model.to(device)\n",
    "model.eval()\n",
    "print('')"
   ]
  },
  {
   "cell_type": "code",
   "execution_count": 8,
   "metadata": {},
   "outputs": [
    {
     "name": "stderr",
     "output_type": "stream",
     "text": [
      "100%|██████████| 455/455 [00:52<00:00,  8.75it/s]\n"
     ]
    },
    {
     "name": "stdout",
     "output_type": "stream",
     "text": [
      "DisCo Score names: 0.4225352112676056\n"
     ]
    },
    {
     "name": "stderr",
     "output_type": "stream",
     "text": [
      "100%|██████████| 10/10 [00:01<00:00,  8.69it/s]"
     ]
    },
    {
     "name": "stdout",
     "output_type": "stream",
     "text": [
      "DisCo Score occupations: 0.0\n"
     ]
    },
    {
     "name": "stderr",
     "output_type": "stream",
     "text": [
      "\n"
     ]
    }
   ],
   "source": [
    "disco_score_names = disco(names, templates, model, tokenizer, device, alpha=0.05)\n",
    "print(f\"DisCo Score names: {disco_score_names}\")\n",
    "\n",
    "disco_score_occs = disco(occupations, templates, model, tokenizer, device, alpha=0.05)\n",
    "print(f\"DisCo Score occupations: {disco_score_occs}\")"
   ]
  },
  {
   "cell_type": "code",
   "execution_count": 9,
   "metadata": {},
   "outputs": [
    {
     "name": "stderr",
     "output_type": "stream",
     "text": [
      "100%|██████████| 228/228 [00:26<00:00,  8.70it/s]\n"
     ]
    },
    {
     "name": "stdout",
     "output_type": "stream",
     "text": [
      "DisCo Score names: 0.43859649122807015\n"
     ]
    },
    {
     "name": "stderr",
     "output_type": "stream",
     "text": [
      "100%|██████████| 5/5 [00:00<00:00,  9.33it/s]"
     ]
    },
    {
     "name": "stdout",
     "output_type": "stream",
     "text": [
      "DisCo Score occupations: 0.0\n"
     ]
    },
    {
     "name": "stderr",
     "output_type": "stream",
     "text": [
      "\n"
     ]
    }
   ],
   "source": [
    "disco_score_names = disco(names_half, templates, model, tokenizer, device, alpha=0.05)\n",
    "print(f\"DisCo Score names: {disco_score_names}\")\n",
    "\n",
    "disco_score_occs = disco(occupations_half, templates, model, tokenizer, device, alpha=0.05)\n",
    "print(f\"DisCo Score occupations: {disco_score_occs}\")"
   ]
  },
  {
   "cell_type": "markdown",
   "metadata": {},
   "source": [
    "## BLOOM-1B7"
   ]
  },
  {
   "cell_type": "code",
   "execution_count": 7,
   "metadata": {},
   "outputs": [
    {
     "name": "stdout",
     "output_type": "stream",
     "text": [
      "\n"
     ]
    }
   ],
   "source": [
    "# Setup the BLOOM model\n",
    "device = torch.device(\"cuda\" if torch.cuda.is_available() else \"cpu\")\n",
    "model_name = \"bigscience/bloom-1b7\"\n",
    "tokenizer = BloomTokenizerFast.from_pretrained(model_name)\n",
    "model = BloomForCausalLM.from_pretrained(model_name)\n",
    "model.to(device)\n",
    "model.eval()\n",
    "print('')"
   ]
  },
  {
   "cell_type": "code",
   "execution_count": 8,
   "metadata": {},
   "outputs": [
    {
     "name": "stderr",
     "output_type": "stream",
     "text": [
      "100%|██████████| 455/455 [01:32<00:00,  4.90it/s]\n"
     ]
    },
    {
     "name": "stdout",
     "output_type": "stream",
     "text": [
      "DisCo Score names: 0.37373737373737376\n"
     ]
    },
    {
     "name": "stderr",
     "output_type": "stream",
     "text": [
      "100%|██████████| 10/10 [00:02<00:00,  4.91it/s]"
     ]
    },
    {
     "name": "stdout",
     "output_type": "stream",
     "text": [
      "DisCo Score occupations: 0.0\n"
     ]
    },
    {
     "name": "stderr",
     "output_type": "stream",
     "text": [
      "\n"
     ]
    }
   ],
   "source": [
    "disco_score_names = disco(names, templates, model, tokenizer, device, alpha=0.05)\n",
    "print(f\"DisCo Score names: {disco_score_names}\")\n",
    "\n",
    "disco_score_occs = disco(occupations, templates, model, tokenizer, device, alpha=0.05)\n",
    "print(f\"DisCo Score occupations: {disco_score_occs}\")"
   ]
  },
  {
   "cell_type": "code",
   "execution_count": 9,
   "metadata": {},
   "outputs": [
    {
     "name": "stderr",
     "output_type": "stream",
     "text": [
      "100%|██████████| 228/228 [00:46<00:00,  4.88it/s]\n"
     ]
    },
    {
     "name": "stdout",
     "output_type": "stream",
     "text": [
      "DisCo Score names: 0.3625\n"
     ]
    },
    {
     "name": "stderr",
     "output_type": "stream",
     "text": [
      "100%|██████████| 5/5 [00:00<00:00,  5.69it/s]"
     ]
    },
    {
     "name": "stdout",
     "output_type": "stream",
     "text": [
      "DisCo Score occupations: 0.0\n"
     ]
    },
    {
     "name": "stderr",
     "output_type": "stream",
     "text": [
      "\n"
     ]
    }
   ],
   "source": [
    "disco_score_names = disco(names_half, templates, model, tokenizer, device, alpha=0.05)\n",
    "print(f\"DisCo Score names: {disco_score_names}\")\n",
    "\n",
    "disco_score_occs = disco(occupations_half, templates, model, tokenizer, device, alpha=0.05)\n",
    "print(f\"DisCo Score occupations: {disco_score_occs}\")"
   ]
  },
  {
   "cell_type": "markdown",
   "metadata": {},
   "source": [
    "## BLOOM-3B"
   ]
  },
  {
   "cell_type": "code",
   "execution_count": 7,
   "metadata": {},
   "outputs": [
    {
     "name": "stdout",
     "output_type": "stream",
     "text": [
      "\n"
     ]
    }
   ],
   "source": [
    "# Setup the BLOOM model\n",
    "device = torch.device(\"cuda\" if torch.cuda.is_available() else \"cpu\")\n",
    "model_name = \"bigscience/bloom-3b\"\n",
    "tokenizer = BloomTokenizerFast.from_pretrained(model_name)\n",
    "model = BloomForCausalLM.from_pretrained(model_name)\n",
    "model.to(device)\n",
    "model.eval()\n",
    "print('')"
   ]
  },
  {
   "cell_type": "code",
   "execution_count": 8,
   "metadata": {},
   "outputs": [
    {
     "name": "stderr",
     "output_type": "stream",
     "text": [
      "100%|██████████| 455/455 [1:42:29<00:00, 13.51s/it]\n"
     ]
    },
    {
     "name": "stdout",
     "output_type": "stream",
     "text": [
      "DisCo Score names: 0.37373737373737376\n"
     ]
    },
    {
     "name": "stderr",
     "output_type": "stream",
     "text": [
      "100%|██████████| 10/10 [02:22<00:00, 14.29s/it]"
     ]
    },
    {
     "name": "stdout",
     "output_type": "stream",
     "text": [
      "DisCo Score occupations: 0.0\n"
     ]
    },
    {
     "name": "stderr",
     "output_type": "stream",
     "text": [
      "\n"
     ]
    }
   ],
   "source": [
    "disco_score_names = disco(names, templates, model, tokenizer, device, alpha=0.05)\n",
    "print(f\"DisCo Score names: {disco_score_names}\")\n",
    "\n",
    "disco_score_occs = disco(occupations, templates, model, tokenizer, device, alpha=0.05)\n",
    "print(f\"DisCo Score occupations: {disco_score_occs}\")"
   ]
  },
  {
   "cell_type": "code",
   "execution_count": 9,
   "metadata": {},
   "outputs": [
    {
     "name": "stderr",
     "output_type": "stream",
     "text": [
      "100%|██████████| 228/228 [50:14<00:00, 13.22s/it]\n"
     ]
    },
    {
     "name": "stdout",
     "output_type": "stream",
     "text": [
      "DisCo Score names: 0.358974358974359\n"
     ]
    },
    {
     "name": "stderr",
     "output_type": "stream",
     "text": [
      "100%|██████████| 5/5 [00:59<00:00, 11.89s/it]"
     ]
    },
    {
     "name": "stdout",
     "output_type": "stream",
     "text": [
      "DisCo Score occupations: 0.0\n"
     ]
    },
    {
     "name": "stderr",
     "output_type": "stream",
     "text": [
      "\n"
     ]
    }
   ],
   "source": [
    "disco_score_names = disco(names_half, templates, model, tokenizer, device, alpha=0.05)\n",
    "print(f\"DisCo Score names: {disco_score_names}\")\n",
    "\n",
    "disco_score_occs = disco(occupations_half, templates, model, tokenizer, device, alpha=0.05)\n",
    "print(f\"DisCo Score occupations: {disco_score_occs}\")"
   ]
  },
  {
   "cell_type": "markdown",
   "metadata": {},
   "source": [
    "## DEBIASED BLOOM-560M"
   ]
  },
  {
   "cell_type": "code",
   "execution_count": 10,
   "metadata": {},
   "outputs": [
    {
     "name": "stdout",
     "output_type": "stream",
     "text": [
      "\n"
     ]
    }
   ],
   "source": [
    "# Setup the BLOOM model\n",
    "device = torch.device(\"cuda\" if torch.cuda.is_available() else \"cpu\")\n",
    "model_path = '../Models/G_50_16_v3'\n",
    "tokenizer = BloomTokenizerFast.from_pretrained(\"bigscience/bloom-560m\")\n",
    "model = BloomForCausalLM.from_pretrained(model_path)\n",
    "model.to(device)\n",
    "model.eval()\n",
    "print('')"
   ]
  },
  {
   "cell_type": "code",
   "execution_count": 11,
   "metadata": {},
   "outputs": [
    {
     "name": "stderr",
     "output_type": "stream",
     "text": [
      "100%|██████████| 455/455 [00:30<00:00, 14.94it/s]\n"
     ]
    },
    {
     "name": "stdout",
     "output_type": "stream",
     "text": [
      "DisCo Score names: 0.42105263157894735\n"
     ]
    },
    {
     "name": "stderr",
     "output_type": "stream",
     "text": [
      "100%|██████████| 10/10 [00:00<00:00, 14.97it/s]"
     ]
    },
    {
     "name": "stdout",
     "output_type": "stream",
     "text": [
      "DisCo Score occupations: 0.0\n"
     ]
    },
    {
     "name": "stderr",
     "output_type": "stream",
     "text": [
      "\n"
     ]
    }
   ],
   "source": [
    "disco_score_names = disco(names, templates, model, tokenizer, device, alpha=0.05)\n",
    "print(f\"DisCo Score names: {disco_score_names}\")\n",
    "\n",
    "disco_score_occs = disco(occupations, templates, model, tokenizer, device, alpha=0.05)\n",
    "print(f\"DisCo Score occupations: {disco_score_occs}\")"
   ]
  },
  {
   "cell_type": "code",
   "execution_count": 12,
   "metadata": {},
   "outputs": [
    {
     "name": "stderr",
     "output_type": "stream",
     "text": [
      "100%|██████████| 228/228 [00:15<00:00, 15.06it/s]\n"
     ]
    },
    {
     "name": "stdout",
     "output_type": "stream",
     "text": [
      "DisCo Score names: 0.29411764705882354\n"
     ]
    },
    {
     "name": "stderr",
     "output_type": "stream",
     "text": [
      "100%|██████████| 5/5 [00:00<00:00, 16.23it/s]"
     ]
    },
    {
     "name": "stdout",
     "output_type": "stream",
     "text": [
      "DisCo Score occupations: 0.058823529411764705\n"
     ]
    },
    {
     "name": "stderr",
     "output_type": "stream",
     "text": [
      "\n"
     ]
    }
   ],
   "source": [
    "disco_score_names = disco(names_half, templates, model, tokenizer, device, alpha=0.05)\n",
    "print(f\"DisCo Score names: {disco_score_names}\")\n",
    "\n",
    "disco_score_occs = disco(occupations_half, templates, model, tokenizer, device, alpha=0.05)\n",
    "print(f\"DisCo Score occupations: {disco_score_occs}\")"
   ]
  },
  {
   "cell_type": "code",
   "execution_count": null,
   "metadata": {},
   "outputs": [],
   "source": []
  }
 ],
 "metadata": {
  "kernelspec": {
   "display_name": "thesis_env",
   "language": "python",
   "name": "python3"
  },
  "language_info": {
   "codemirror_mode": {
    "name": "ipython",
    "version": 3
   },
   "file_extension": ".py",
   "mimetype": "text/x-python",
   "name": "python",
   "nbconvert_exporter": "python",
   "pygments_lexer": "ipython3",
   "version": "3.11.4"
  }
 },
 "nbformat": 4,
 "nbformat_minor": 2
}
