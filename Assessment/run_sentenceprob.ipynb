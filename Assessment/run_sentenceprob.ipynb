{
 "cells": [
  {
   "cell_type": "code",
   "execution_count": 1,
   "metadata": {},
   "outputs": [
    {
     "name": "stderr",
     "output_type": "stream",
     "text": [
      "c:\\Users\\denni\\Documents\\Thesis_2024\\thesis_env\\Lib\\site-packages\\tqdm\\auto.py:21: TqdmWarning: IProgress not found. Please update jupyter and ipywidgets. See https://ipywidgets.readthedocs.io/en/stable/user_install.html\n",
      "  from .autonotebook import tqdm as notebook_tqdm\n"
     ]
    }
   ],
   "source": [
    "from transformers import BloomForCausalLM, BloomTokenizerFast\n",
    "from methods import *\n",
    "import pandas as pd"
   ]
  },
  {
   "cell_type": "code",
   "execution_count": 2,
   "metadata": {},
   "outputs": [
    {
     "name": "stdout",
     "output_type": "stream",
     "text": [
      "Using device: cuda\n"
     ]
    }
   ],
   "source": [
    "device = torch.device('cuda' if torch.cuda.is_available() else 'cpu')\n",
    "print(f\"Using device: {device}\")"
   ]
  },
  {
   "cell_type": "markdown",
   "metadata": {},
   "source": [
    "## CrowS-Pairs dataset"
   ]
  },
  {
   "cell_type": "code",
   "execution_count": 3,
   "metadata": {},
   "outputs": [],
   "source": [
    "df = pd.read_csv('./Data/SENTENCE_crows.csv', header=None) \n",
    "filtered_df = df[df[4] == 'gender'][[1, 2, 3]]\n",
    "# 262 sentences\n",
    "stereo = filtered_df.iloc[:, 0].tolist()\n",
    "normal = filtered_df.iloc[:, 1].tolist()"
   ]
  },
  {
   "cell_type": "code",
   "execution_count": 4,
   "metadata": {},
   "outputs": [],
   "source": [
    "stereo_half = stereo[:len(stereo) // 2]\n",
    "normal_half = normal[:len(normal) // 2]"
   ]
  },
  {
   "cell_type": "markdown",
   "metadata": {},
   "source": [
    "## Equity-Evaluation dataset"
   ]
  },
  {
   "cell_type": "code",
   "execution_count": 5,
   "metadata": {},
   "outputs": [],
   "source": [
    "d = pd.read_csv('./Data/SENTENCE_Equity-Evaluation-Corpus.csv')\n",
    "d = d.drop(columns=['ID'])\n",
    "d = d[d['Race'] == 'European']\n",
    "\n",
    "df1 = d[d['Template'] == 'The conversation with <person object> was <emotional situation word>.']\n",
    "df1 = df1[df1['Emotion'] == 'anger']\n",
    "\n",
    "male_rows1 = df1[df1['Gender'] == 'male']\n",
    "male_sentence_list1 = male_rows1['Sentence'].tolist()\n",
    "female_rows1 = df1[df1['Gender'] == 'female']\n",
    "female_sentence_list1 = female_rows1['Sentence'].tolist()\n",
    "\n",
    "df2 = d[d['Template'] == '<person subject> made me feel <emotion word>.']\n",
    "df2 = df2[df2['Emotion'] == 'anger']\n",
    "\n",
    "male_rows2 = df2[df2['Gender'] == 'male']\n",
    "male_sentence_list2 = male_rows2['Sentence'].tolist()\n",
    "female_rows2 = df2[df2['Gender'] == 'female']\n",
    "female_sentence_list2 = female_rows2['Sentence'].tolist()\n",
    "\n",
    "fem = female_sentence_list1 + female_sentence_list2\n",
    "masc = male_sentence_list1 + male_sentence_list2"
   ]
  },
  {
   "cell_type": "code",
   "execution_count": 6,
   "metadata": {},
   "outputs": [],
   "source": [
    "fem_half = female_sentence_list1[:len(female_sentence_list1) // 2] + female_sentence_list2[:len(female_sentence_list2) // 2]\n",
    "masc_half = male_sentence_list1[:len(male_sentence_list1) // 2] + male_sentence_list2[:len(male_sentence_list2) // 2]"
   ]
  },
  {
   "cell_type": "markdown",
   "metadata": {},
   "source": [
    "## BLOOM-560M"
   ]
  },
  {
   "cell_type": "code",
   "execution_count": 7,
   "metadata": {},
   "outputs": [
    {
     "name": "stdout",
     "output_type": "stream",
     "text": [
      "\n"
     ]
    }
   ],
   "source": [
    "model_name = \"bigscience/bloom-560m\"\n",
    "tokenizer = BloomTokenizerFast.from_pretrained(model_name)\n",
    "model = BloomForCausalLM.from_pretrained(model_name)\n",
    "model.to(device)\n",
    "model.eval()\n",
    "print('')"
   ]
  },
  {
   "cell_type": "code",
   "execution_count": 8,
   "metadata": {},
   "outputs": [
    {
     "name": "stdout",
     "output_type": "stream",
     "text": [
      "0.5648854961832062\n",
      "The model finds the stereotypical sentence more likely in 56.49% of the sentence pairs!\n"
     ]
    }
   ],
   "source": [
    "res = SPBM(stereo, normal, 16, model, tokenizer, device)\n",
    "print(res)\n",
    "print(f'The model finds the stereotypical sentence more likely in {round(res*100, 2)}% of the sentence pairs!')"
   ]
  },
  {
   "cell_type": "code",
   "execution_count": 10,
   "metadata": {},
   "outputs": [
    {
     "name": "stdout",
     "output_type": "stream",
     "text": [
      "0.5190839694656488\n",
      "The model finds the stereotypical sentence more likely in 51.91% of the sentence pairs!\n"
     ]
    }
   ],
   "source": [
    "res = SPBM(stereo_half, normal_half, 16, model, tokenizer, device)\n",
    "print(res)\n",
    "print(f'The model finds the stereotypical sentence more likely in {round(res*100, 2)}% of the sentence pairs!')"
   ]
  },
  {
   "cell_type": "code",
   "execution_count": 9,
   "metadata": {},
   "outputs": [
    {
     "name": "stdout",
     "output_type": "stream",
     "text": [
      "0.74\n",
      "The model finds the stereotypical sentence more likely in 74.0% of the sentence pairs!\n"
     ]
    }
   ],
   "source": [
    "res = SPBM(fem, masc, 16, model, tokenizer, device)\n",
    "print(res)\n",
    "print(f'The model finds the stereotypical sentence more likely in {round(res*100, 2)}% of the sentence pairs!')"
   ]
  },
  {
   "cell_type": "code",
   "execution_count": 11,
   "metadata": {},
   "outputs": [
    {
     "name": "stdout",
     "output_type": "stream",
     "text": [
      "0.7\n",
      "The model finds the stereotypical sentence more likely in 70.0% of the sentence pairs!\n"
     ]
    }
   ],
   "source": [
    "res = SPBM(fem_half, masc_half, 16, model, tokenizer, device)\n",
    "print(res)\n",
    "print(f'The model finds the stereotypical sentence more likely in {round(res*100, 2)}% of the sentence pairs!')"
   ]
  },
  {
   "cell_type": "markdown",
   "metadata": {},
   "source": [
    "## BLOOM-1B1"
   ]
  },
  {
   "cell_type": "code",
   "execution_count": 12,
   "metadata": {},
   "outputs": [
    {
     "name": "stdout",
     "output_type": "stream",
     "text": [
      "\n"
     ]
    }
   ],
   "source": [
    "model_name = \"bigscience/bloom-1b1\"\n",
    "tokenizer = BloomTokenizerFast.from_pretrained(model_name)\n",
    "model = BloomForCausalLM.from_pretrained(model_name)\n",
    "model.to(device)\n",
    "print('')"
   ]
  },
  {
   "cell_type": "code",
   "execution_count": 13,
   "metadata": {},
   "outputs": [
    {
     "name": "stdout",
     "output_type": "stream",
     "text": [
      "0.5648854961832062\n",
      "The model finds the stereotypical sentence more likely in 56.49% of the sentence pairs!\n"
     ]
    }
   ],
   "source": [
    "res = SPBM(stereo, normal, 16, model, tokenizer, device)\n",
    "print(res)\n",
    "print(f'The model finds the stereotypical sentence more likely in {round(res*100, 2)}% of the sentence pairs!')"
   ]
  },
  {
   "cell_type": "code",
   "execution_count": 14,
   "metadata": {},
   "outputs": [
    {
     "name": "stdout",
     "output_type": "stream",
     "text": [
      "0.5419847328244275\n",
      "The model finds the stereotypical sentence more likely in 54.2% of the sentence pairs!\n"
     ]
    }
   ],
   "source": [
    "res = SPBM(stereo_half, normal_half, 16, model, tokenizer, device)\n",
    "print(res)\n",
    "print(f'The model finds the stereotypical sentence more likely in {round(res*100, 2)}% of the sentence pairs!')"
   ]
  },
  {
   "cell_type": "code",
   "execution_count": 15,
   "metadata": {},
   "outputs": [
    {
     "name": "stdout",
     "output_type": "stream",
     "text": [
      "0.75\n",
      "The model finds the stereotypical sentence more likely in 75.0% of the sentence pairs!\n"
     ]
    }
   ],
   "source": [
    "res = SPBM(fem, masc, 16, model, tokenizer, device)\n",
    "print(res)\n",
    "print(f'The model finds the stereotypical sentence more likely in {round(res*100, 2)}% of the sentence pairs!')"
   ]
  },
  {
   "cell_type": "code",
   "execution_count": 16,
   "metadata": {},
   "outputs": [
    {
     "name": "stdout",
     "output_type": "stream",
     "text": [
      "0.8\n",
      "The model finds the stereotypical sentence more likely in 80.0% of the sentence pairs!\n"
     ]
    }
   ],
   "source": [
    "res = SPBM(fem_half, masc_half, 16, model, tokenizer, device)\n",
    "print(res)\n",
    "print(f'The model finds the stereotypical sentence more likely in {round(res*100, 2)}% of the sentence pairs!')"
   ]
  },
  {
   "cell_type": "markdown",
   "metadata": {},
   "source": [
    "## BLOOM-1B7"
   ]
  },
  {
   "cell_type": "code",
   "execution_count": 17,
   "metadata": {},
   "outputs": [
    {
     "name": "stdout",
     "output_type": "stream",
     "text": [
      "\n"
     ]
    }
   ],
   "source": [
    "model_name = \"bigscience/bloom-1b7\"\n",
    "tokenizer = BloomTokenizerFast.from_pretrained(model_name)\n",
    "model = BloomForCausalLM.from_pretrained(model_name)\n",
    "model.to(device)\n",
    "print('')"
   ]
  },
  {
   "cell_type": "code",
   "execution_count": 18,
   "metadata": {},
   "outputs": [
    {
     "name": "stdout",
     "output_type": "stream",
     "text": [
      "0.6412213740458015\n",
      "The model finds the stereotypical sentence more likely in 64.12% of the sentence pairs!\n"
     ]
    }
   ],
   "source": [
    "res = SPBM(stereo, normal, 16, model, tokenizer, device)\n",
    "print(res)\n",
    "print(f'The model finds the stereotypical sentence more likely in {round(res*100, 2)}% of the sentence pairs!')"
   ]
  },
  {
   "cell_type": "code",
   "execution_count": 19,
   "metadata": {},
   "outputs": [
    {
     "name": "stdout",
     "output_type": "stream",
     "text": [
      "0.5877862595419847\n",
      "The model finds the stereotypical sentence more likely in 58.78% of the sentence pairs!\n"
     ]
    }
   ],
   "source": [
    "res = SPBM(stereo_half, normal_half, 16, model, tokenizer, device)\n",
    "print(res)\n",
    "print(f'The model finds the stereotypical sentence more likely in {round(res*100, 2)}% of the sentence pairs!')"
   ]
  },
  {
   "cell_type": "code",
   "execution_count": 20,
   "metadata": {},
   "outputs": [
    {
     "name": "stdout",
     "output_type": "stream",
     "text": [
      "0.66\n",
      "The model finds the stereotypical sentence more likely in 66.0% of the sentence pairs!\n"
     ]
    }
   ],
   "source": [
    "res = SPBM(fem, masc, 16, model, tokenizer, device)\n",
    "print(res)\n",
    "print(f'The model finds the stereotypical sentence more likely in {round(res*100, 2)}% of the sentence pairs!')"
   ]
  },
  {
   "cell_type": "code",
   "execution_count": 21,
   "metadata": {},
   "outputs": [
    {
     "name": "stdout",
     "output_type": "stream",
     "text": [
      "0.7\n",
      "The model finds the stereotypical sentence more likely in 70.0% of the sentence pairs!\n"
     ]
    }
   ],
   "source": [
    "res = SPBM(fem_half, masc_half, 16, model, tokenizer, device)\n",
    "print(res)\n",
    "print(f'The model finds the stereotypical sentence more likely in {round(res*100, 2)}% of the sentence pairs!')"
   ]
  },
  {
   "cell_type": "markdown",
   "metadata": {},
   "source": [
    "## BLOOM-3B"
   ]
  },
  {
   "cell_type": "code",
   "execution_count": 22,
   "metadata": {},
   "outputs": [
    {
     "name": "stdout",
     "output_type": "stream",
     "text": [
      "\n"
     ]
    }
   ],
   "source": [
    "model_name = \"bigscience/bloom-3b\"\n",
    "tokenizer = BloomTokenizerFast.from_pretrained(model_name)\n",
    "model = BloomForCausalLM.from_pretrained(model_name)\n",
    "model.to(device)\n",
    "print('')"
   ]
  },
  {
   "cell_type": "code",
   "execution_count": 23,
   "metadata": {},
   "outputs": [
    {
     "name": "stdout",
     "output_type": "stream",
     "text": [
      "0.6183206106870229\n",
      "The model finds the stereotypical sentence more likely in 61.83% of the sentence pairs!\n"
     ]
    }
   ],
   "source": [
    "res = SPBM(stereo, normal, 16, model, tokenizer, device)\n",
    "print(res)\n",
    "print(f'The model finds the stereotypical sentence more likely in {round(res*100, 2)}% of the sentence pairs!')"
   ]
  },
  {
   "cell_type": "code",
   "execution_count": 24,
   "metadata": {},
   "outputs": [
    {
     "name": "stdout",
     "output_type": "stream",
     "text": [
      "0.5572519083969466\n",
      "The model finds the stereotypical sentence more likely in 55.73% of the sentence pairs!\n"
     ]
    }
   ],
   "source": [
    "res = SPBM(stereo_half, normal_half, 16, model, tokenizer, device)\n",
    "print(res)\n",
    "print(f'The model finds the stereotypical sentence more likely in {round(res*100, 2)}% of the sentence pairs!')"
   ]
  },
  {
   "cell_type": "code",
   "execution_count": 25,
   "metadata": {},
   "outputs": [
    {
     "name": "stdout",
     "output_type": "stream",
     "text": [
      "0.72\n",
      "The model finds the stereotypical sentence more likely in 72.0% of the sentence pairs!\n"
     ]
    }
   ],
   "source": [
    "res = SPBM(fem, masc, 16, model, tokenizer, device)\n",
    "print(res)\n",
    "print(f'The model finds the stereotypical sentence more likely in {round(res*100, 2)}% of the sentence pairs!')"
   ]
  },
  {
   "cell_type": "code",
   "execution_count": 26,
   "metadata": {},
   "outputs": [
    {
     "name": "stdout",
     "output_type": "stream",
     "text": [
      "0.74\n",
      "The model finds the stereotypical sentence more likely in 74.0% of the sentence pairs!\n"
     ]
    }
   ],
   "source": [
    "res = SPBM(fem_half, masc_half, 16, model, tokenizer, device)\n",
    "print(res)\n",
    "print(f'The model finds the stereotypical sentence more likely in {round(res*100, 2)}% of the sentence pairs!')"
   ]
  },
  {
   "cell_type": "markdown",
   "metadata": {},
   "source": [
    "## DEBIASED BLOOM-560M"
   ]
  },
  {
   "cell_type": "code",
   "execution_count": 27,
   "metadata": {},
   "outputs": [
    {
     "name": "stdout",
     "output_type": "stream",
     "text": [
      "\n"
     ]
    }
   ],
   "source": [
    "model_path = '../Models/G_50_16_v3'\n",
    "tokenizer = BloomTokenizerFast.from_pretrained(\"bigscience/bloom-560m\")\n",
    "model = BloomForCausalLM.from_pretrained(model_path)\n",
    "model.to(device)\n",
    "model.eval()\n",
    "print('')"
   ]
  },
  {
   "cell_type": "code",
   "execution_count": 28,
   "metadata": {},
   "outputs": [
    {
     "name": "stdout",
     "output_type": "stream",
     "text": [
      "0.5648854961832062\n",
      "The model finds the stereotypical sentence more likely in 56.49% of the sentence pairs!\n"
     ]
    }
   ],
   "source": [
    "res = SPBM(stereo, normal, 16, model, tokenizer, device)\n",
    "print(res)\n",
    "print(f'The model finds the stereotypical sentence more likely in {round(res*100, 2)}% of the sentence pairs!')"
   ]
  },
  {
   "cell_type": "code",
   "execution_count": 29,
   "metadata": {},
   "outputs": [
    {
     "name": "stdout",
     "output_type": "stream",
     "text": [
      "0.5801526717557252\n",
      "The model finds the stereotypical sentence more likely in 58.02% of the sentence pairs!\n"
     ]
    }
   ],
   "source": [
    "res = SPBM(stereo_half, normal_half, 16, model, tokenizer, device)\n",
    "print(res)\n",
    "print(f'The model finds the stereotypical sentence more likely in {round(res*100, 2)}% of the sentence pairs!')"
   ]
  },
  {
   "cell_type": "code",
   "execution_count": 30,
   "metadata": {},
   "outputs": [
    {
     "name": "stdout",
     "output_type": "stream",
     "text": [
      "0.7\n",
      "The model finds the stereotypical sentence more likely in 70.0% of the sentence pairs!\n"
     ]
    }
   ],
   "source": [
    "res = SPBM(fem, masc, 16, model, tokenizer, device)\n",
    "print(res)\n",
    "print(f'The model finds the stereotypical sentence more likely in {round(res*100, 2)}% of the sentence pairs!')"
   ]
  },
  {
   "cell_type": "code",
   "execution_count": 31,
   "metadata": {},
   "outputs": [
    {
     "name": "stdout",
     "output_type": "stream",
     "text": [
      "0.7\n",
      "The model finds the stereotypical sentence more likely in 70.0% of the sentence pairs!\n"
     ]
    }
   ],
   "source": [
    "res = SPBM(fem_half, masc_half, 16, model, tokenizer, device)\n",
    "print(res)\n",
    "print(f'The model finds the stereotypical sentence more likely in {round(res*100, 2)}% of the sentence pairs!')"
   ]
  }
 ],
 "metadata": {
  "kernelspec": {
   "display_name": "thesis_env",
   "language": "python",
   "name": "python3"
  },
  "language_info": {
   "codemirror_mode": {
    "name": "ipython",
    "version": 3
   },
   "file_extension": ".py",
   "mimetype": "text/x-python",
   "name": "python",
   "nbconvert_exporter": "python",
   "pygments_lexer": "ipython3",
   "version": "3.11.4"
  }
 },
 "nbformat": 4,
 "nbformat_minor": 2
}
