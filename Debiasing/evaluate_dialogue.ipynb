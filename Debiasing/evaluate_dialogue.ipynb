{
 "cells": [
  {
   "cell_type": "code",
   "execution_count": 1,
   "metadata": {},
   "outputs": [],
   "source": [
    "from transformers import BloomForCausalLM, BloomTokenizerFast\n",
    "import torch\n",
    "import json\n",
    "import random\n",
    "from sklearn.model_selection import train_test_split\n",
    "import datasets\n",
    "from itertools import islice\n",
    "import evaluate\n",
    "bleu = evaluate.load(\"bleu\")"
   ]
  },
  {
   "cell_type": "code",
   "execution_count": 2,
   "metadata": {},
   "outputs": [
    {
     "name": "stdout",
     "output_type": "stream",
     "text": [
      "Using device: cuda\n"
     ]
    }
   ],
   "source": [
    "device = torch.device('cuda' if torch.cuda.is_available() else 'cpu')\n",
    "print(f\"Using device: {device}\")"
   ]
  },
  {
   "cell_type": "code",
   "execution_count": 6,
   "metadata": {},
   "outputs": [],
   "source": [
    "def list_difference(A, B):\n",
    "    result = []\n",
    "    for a, b in zip(A, B):\n",
    "        if a.startswith(b):\n",
    "            result.append(a[len(b):].strip())\n",
    "        else:\n",
    "            result.append(a)\n",
    "    return result\n",
    "\n",
    "def chunked_iterable(iterable, size):\n",
    "    \"\"\"Yields chunks of the given size from an iterable.\"\"\"\n",
    "    it = iter(iterable)\n",
    "    while chunk := list(islice(it, size)):\n",
    "        yield chunk\n",
    "\n",
    "def generate_predictions(model, tokenizer, texts, max_length=40, batch_size=36):\n",
    "    all_new_parts = []\n",
    "    for batch in chunked_iterable(texts, batch_size):\n",
    "        tokenized_texts = tokenizer(batch, padding=True, truncation=True, return_tensors=\"pt\", max_length=max_length).to(device)\n",
    "        with torch.no_grad():\n",
    "            generated_ids = model.generate(input_ids=tokenized_texts['input_ids'], attention_mask=tokenized_texts['attention_mask'], max_new_tokens=20)\n",
    "        generated_texts = tokenizer.batch_decode(generated_ids, skip_special_tokens=True)\n",
    "        new_parts = list_difference(generated_texts, batch)\n",
    "        all_new_parts.extend(new_parts)\n",
    "    return all_new_parts"
   ]
  },
  {
   "cell_type": "code",
   "execution_count": 7,
   "metadata": {},
   "outputs": [],
   "source": [
    "with open('./Data/adv_train_data.json', 'r') as f:\n",
    "        train_gender_data_list, n_data = json.load(f)\n",
    "\n",
    "random.seed(8)\n",
    "g_label_0 = [datapoint for datapoint in train_gender_data_list if datapoint[2] == 0]\n",
    "g_label_1 = [datapoint for datapoint in train_gender_data_list if datapoint[2] == 1]\n",
    "# shuffle such that random data is selected when only taking first 60 000\n",
    "random.shuffle(g_label_0)\n",
    "random.shuffle(g_label_1)\n",
    "g_balanced_label_0 = g_label_0[:60000]\n",
    "g_balanced_label_1 = g_label_1[:60000]\n",
    "g_data = g_balanced_label_0 + g_balanced_label_1\n",
    "_, both = train_test_split(g_data, test_size=0.2, random_state=8) # important: same random seed as in training!\n",
    "_, g_test = train_test_split(both, test_size=0.5, random_state=8) \n",
    "\n",
    "_, n_both = train_test_split(n_data, test_size=0.2, random_state=8)\n",
    "_, n_test = train_test_split(n_both, test_size=0.5, random_state=8) "
   ]
  },
  {
   "cell_type": "markdown",
   "metadata": {},
   "source": [
    "## GENERATION EVALUATION: BLOOM-560M"
   ]
  },
  {
   "cell_type": "code",
   "execution_count": 5,
   "metadata": {},
   "outputs": [
    {
     "name": "stderr",
     "output_type": "stream",
     "text": [
      "667it [06:00,  1.85it/s]\n"
     ]
    },
    {
     "name": "stdout",
     "output_type": "stream",
     "text": [
      "BLEU score: 0.011033502290115366\n"
     ]
    }
   ],
   "source": [
    "model_name = \"bigscience/bloom-560m\"\n",
    "model = BloomForCausalLM.from_pretrained(model_name).to(device)\n",
    "tokenizer = BloomTokenizerFast.from_pretrained(model_name)\n",
    "\n",
    "generated_texts = generate_predictions(model, tokenizer, [a[0] for a in n_test] + [a[0] for a in g_test])\n",
    "reference_texts = [[a[1]] for a in n_test] + [[a[1]] for a in g_test]\n",
    "\n",
    "bleu_score = bleu.compute(predictions=generated_texts, references=reference_texts)\n",
    "print(f\"BLEU score: {bleu_score['bleu']}\")"
   ]
  },
  {
   "cell_type": "markdown",
   "metadata": {},
   "source": [
    "## GENERATION EVALUATION: DEBIASED BLOOM-560M"
   ]
  },
  {
   "cell_type": "code",
   "execution_count": 6,
   "metadata": {},
   "outputs": [
    {
     "name": "stdout",
     "output_type": "stream",
     "text": [
      "\n"
     ]
    },
    {
     "name": "stderr",
     "output_type": "stream",
     "text": [
      "667it [05:58,  1.86it/s]\n"
     ]
    },
    {
     "name": "stdout",
     "output_type": "stream",
     "text": [
      "BLEU score: 0.01327239717026448\n"
     ]
    }
   ],
   "source": [
    "model_path = './Models/DB_BLOOM'\n",
    "model = BloomForCausalLM.from_pretrained(model_path)\n",
    "model.to(device)\n",
    "model.eval()\n",
    "tokenizer = BloomTokenizerFast.from_pretrained(\"bigscience/bloom-560m\")\n",
    "print('')\n",
    "\n",
    "generated_texts = generate_predictions(model, tokenizer, [a[0] for a in n_test] + [a[0] for a in g_test])\n",
    "reference_texts = [[a[1]] for a in n_test] + [[a[1]] for a in g_test]\n",
    "\n",
    "bleu_score = bleu.compute(predictions=generated_texts, references=reference_texts)\n",
    "print(f\"BLEU score: {bleu_score['bleu']}\")"
   ]
  }
 ],
 "metadata": {
  "kernelspec": {
   "display_name": "thesis_env",
   "language": "python",
   "name": "python3"
  },
  "language_info": {
   "codemirror_mode": {
    "name": "ipython",
    "version": 3
   },
   "file_extension": ".py",
   "mimetype": "text/x-python",
   "name": "python",
   "nbconvert_exporter": "python",
   "pygments_lexer": "ipython3",
   "version": "3.11.4"
  }
 },
 "nbformat": 4,
 "nbformat_minor": 2
}
